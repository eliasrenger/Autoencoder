{
 "cells": [
  {
   "cell_type": "code",
   "execution_count": 69,
   "metadata": {},
   "outputs": [
    {
     "name": "stdout",
     "output_type": "stream",
     "text": [
      "sin_2d_200_points_sgd_0.01_last\n"
     ]
    }
   ],
   "source": [
    "# external imports\n",
    "import pandas as pd\n",
    "import numpy as np\n",
    "from sklearn.cluster import KMeans\n",
    "from sklearn.metrics import silhouette_score\n",
    "\n",
    "# internal imports\n",
    "from config import *\n",
    "print(MODEL_NAME)"
   ]
  },
  {
   "cell_type": "code",
   "execution_count": 71,
   "metadata": {},
   "outputs": [
    {
     "name": "stdout",
     "output_type": "stream",
     "text": [
      "(4493, 6)\n"
     ]
    }
   ],
   "source": [
    "# load data\n",
    "df = pd.read_csv(f'data/{MODEL_NAME}_fixed_300epochs.csv')"
   ]
  },
  {
   "cell_type": "code",
   "execution_count": 76,
   "metadata": {},
   "outputs": [],
   "source": [
    "# analyze data\n",
    "\n",
    "# set random state\n",
    "random_seed = 210\n",
    "np.random.seed(random_seed)\n",
    "\n",
    "grouped_df = df.groupby(['epoch', 'batch'])\n",
    "\n",
    "previous_centroids = None  # To store centroids from the previous epoch\n",
    "clustered_groups = []\n",
    "for group_name, group_df in grouped_df:\n",
    "    features = group_df[['x', 'y']]\n",
    "    var_x = features['x'].var()\n",
    "    var_y = features['y'].var()\n",
    "    if var_x + var_y < FIXED_POINT_TOL:\n",
    "        group_df['fixed point'] = [0] * len(features)\n",
    "    else:\n",
    "        min_clusters = 2\n",
    "        max_clusters = len(group_df) - 1\n",
    "        silhouette_scores = []\n",
    "        \n",
    "        for n_clusters in range(min_clusters, max_clusters + 1):\n",
    "             # Initialize kmeans with previous centroids if available\n",
    "            kmeans = KMeans(n_clusters=n_clusters, random_state=random_seed, tol=FIXED_POINT_TOL)\n",
    "            kmeans.fit(features)\n",
    "            silhouette_scores.append(silhouette_score(features, kmeans.labels_, random_state=random_seed))\n",
    "\n",
    "        optimal_num_clusters = silhouette_scores.index(max(silhouette_scores)) + min_clusters\n",
    "        kmeans.set_params(n_clusters=optimal_num_clusters)\n",
    "        kmeans.fit(features)\n",
    "        previous_centroids = kmeans.cluster_centers_  # Store centroids for the next epoch\n",
    "        labels = kmeans.labels_\n",
    "        idx = np.argsort(kmeans.cluster_centers_.sum(axis=1))[::-1]\n",
    "        lut = np.zeros_like(idx)\n",
    "        lut[idx] = np.arange(optimal_num_clusters)\n",
    "        group_df['fixed point'] = lut[labels]\n",
    "    clustered_groups.append(group_df)\n",
    "\n",
    "df_with_clusters = pd.concat(clustered_groups)\n",
    "fixed_points = df_with_clusters.groupby(['epoch', \n",
    "                                         'batch', \n",
    "                                         'fixed point']).agg(\n",
    "                                             {'x':['mean', 'var'], \n",
    "                                              'y':['mean', 'var']}).reset_index()\n",
    "fixed_points.columns = ['epoch', 'batch', 'fixed point', 'x_mean', 'x_var', 'y_mean', 'y_var']\n",
    "fixed_points.to_csv(f'data/analyzed_{MODEL_NAME}_fixed_300epochs.csv')"
   ]
  }
 ],
 "metadata": {
  "kernelspec": {
   "display_name": "base",
   "language": "python",
   "name": "python3"
  },
  "language_info": {
   "codemirror_mode": {
    "name": "ipython",
    "version": 3
   },
   "file_extension": ".py",
   "mimetype": "text/x-python",
   "name": "python",
   "nbconvert_exporter": "python",
   "pygments_lexer": "ipython3",
   "version": "3.12.2"
  }
 },
 "nbformat": 4,
 "nbformat_minor": 2
}
